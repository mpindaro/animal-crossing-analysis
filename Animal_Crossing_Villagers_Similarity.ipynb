{
  "nbformat": 4,
  "nbformat_minor": 0,
  "metadata": {
    "colab": {
      "name": "Animal Crossing Villagers Similarity.ipynb",
      "provenance": [],
      "include_colab_link": true
    },
    "kernelspec": {
      "name": "python3",
      "display_name": "Python 3"
    }
  },
  "cells": [
    {
      "cell_type": "markdown",
      "metadata": {
        "id": "view-in-github",
        "colab_type": "text"
      },
      "source": [
        "<a href=\"https://colab.research.google.com/github/mpindaro/animal-crossing-analysis/blob/master/Animal_Crossing_Villagers_Similarity.ipynb\" target=\"_parent\"><img src=\"https://colab.research.google.com/assets/colab-badge.svg\" alt=\"Open In Colab\"/></a>"
      ]
    },
    {
      "cell_type": "code",
      "metadata": {
        "id": "f0Ws7zcYq5O_"
      },
      "source": [
        "import pandas as pd\n",
        "import matplotlib.pyplot as plt\n",
        "\n"
      ],
      "execution_count": null,
      "outputs": []
    },
    {
      "cell_type": "code",
      "metadata": {
        "id": "bQZ2Tf7Jijkk",
        "colab": {
          "base_uri": "https://localhost:8080/",
          "height": 377
        },
        "outputId": "3729393a-1bc2-4f3c-e19b-106f134d6c52"
      },
      "source": [
        "\n",
        "villagers = pd.read_csv(\"villagers.csv\")\n",
        "villagers.head(5)"
      ],
      "execution_count": null,
      "outputs": [
        {
          "output_type": "execute_result",
          "data": {
            "text/html": [
              "<div>\n",
              "<style scoped>\n",
              "    .dataframe tbody tr th:only-of-type {\n",
              "        vertical-align: middle;\n",
              "    }\n",
              "\n",
              "    .dataframe tbody tr th {\n",
              "        vertical-align: top;\n",
              "    }\n",
              "\n",
              "    .dataframe thead th {\n",
              "        text-align: right;\n",
              "    }\n",
              "</style>\n",
              "<table border=\"1\" class=\"dataframe\">\n",
              "  <thead>\n",
              "    <tr style=\"text-align: right;\">\n",
              "      <th></th>\n",
              "      <th>Name</th>\n",
              "      <th>Species</th>\n",
              "      <th>Gender</th>\n",
              "      <th>Personality</th>\n",
              "      <th>Hobby</th>\n",
              "      <th>Birthday</th>\n",
              "      <th>Catchphrase</th>\n",
              "      <th>Favorite Song</th>\n",
              "      <th>Style 1</th>\n",
              "      <th>Style 2</th>\n",
              "      <th>Color 1</th>\n",
              "      <th>Color 2</th>\n",
              "      <th>Wallpaper</th>\n",
              "      <th>Flooring</th>\n",
              "      <th>Furniture List</th>\n",
              "      <th>Filename</th>\n",
              "      <th>Unique Entry ID</th>\n",
              "    </tr>\n",
              "  </thead>\n",
              "  <tbody>\n",
              "    <tr>\n",
              "      <th>0</th>\n",
              "      <td>Admiral</td>\n",
              "      <td>Bird</td>\n",
              "      <td>Male</td>\n",
              "      <td>Cranky</td>\n",
              "      <td>Nature</td>\n",
              "      <td>27-Jan</td>\n",
              "      <td>aye aye</td>\n",
              "      <td>Steep Hill</td>\n",
              "      <td>Cool</td>\n",
              "      <td>Cool</td>\n",
              "      <td>Black</td>\n",
              "      <td>Blue</td>\n",
              "      <td>dirt-clod wall</td>\n",
              "      <td>tatami</td>\n",
              "      <td>717;1849;7047;2736;787;5970;3449;3622;3802;410...</td>\n",
              "      <td>brd06</td>\n",
              "      <td>B3RyfNEqwGmcccRC3</td>\n",
              "    </tr>\n",
              "    <tr>\n",
              "      <th>1</th>\n",
              "      <td>Agent S</td>\n",
              "      <td>Squirrel</td>\n",
              "      <td>Female</td>\n",
              "      <td>Peppy</td>\n",
              "      <td>Fitness</td>\n",
              "      <td>2-Jul</td>\n",
              "      <td>sidekick</td>\n",
              "      <td>Go K.K. Rider</td>\n",
              "      <td>Active</td>\n",
              "      <td>Simple</td>\n",
              "      <td>Blue</td>\n",
              "      <td>Black</td>\n",
              "      <td>concrete wall</td>\n",
              "      <td>colorful tile flooring</td>\n",
              "      <td>7845;7150;3468;4080;290;3971;3449;1708;4756;25...</td>\n",
              "      <td>squ05</td>\n",
              "      <td>SGMdki6dzpDZyXAw5</td>\n",
              "    </tr>\n",
              "    <tr>\n",
              "      <th>2</th>\n",
              "      <td>Agnes</td>\n",
              "      <td>Pig</td>\n",
              "      <td>Female</td>\n",
              "      <td>Big Sister</td>\n",
              "      <td>Play</td>\n",
              "      <td>21-Apr</td>\n",
              "      <td>snuffle</td>\n",
              "      <td>K.K. House</td>\n",
              "      <td>Simple</td>\n",
              "      <td>Elegant</td>\n",
              "      <td>Pink</td>\n",
              "      <td>White</td>\n",
              "      <td>gray molded-panel wall</td>\n",
              "      <td>arabesque flooring</td>\n",
              "      <td>4129;7236;7235;7802;896;3428;4027;7325;3958;71...</td>\n",
              "      <td>pig17</td>\n",
              "      <td>jzWCiDPm9MqtCfecP</td>\n",
              "    </tr>\n",
              "    <tr>\n",
              "      <th>3</th>\n",
              "      <td>Al</td>\n",
              "      <td>Gorilla</td>\n",
              "      <td>Male</td>\n",
              "      <td>Lazy</td>\n",
              "      <td>Fitness</td>\n",
              "      <td>18-Oct</td>\n",
              "      <td>ayyyeee</td>\n",
              "      <td>Go K.K. Rider</td>\n",
              "      <td>Active</td>\n",
              "      <td>Active</td>\n",
              "      <td>Red</td>\n",
              "      <td>White</td>\n",
              "      <td>concrete wall</td>\n",
              "      <td>green rubber flooring</td>\n",
              "      <td>1452;4078;4013;833;4116;3697;7845;3307;3946;39...</td>\n",
              "      <td>gor08</td>\n",
              "      <td>LBifxETQJGEaLhBjC</td>\n",
              "    </tr>\n",
              "    <tr>\n",
              "      <th>4</th>\n",
              "      <td>Alfonso</td>\n",
              "      <td>Alligator</td>\n",
              "      <td>Male</td>\n",
              "      <td>Lazy</td>\n",
              "      <td>Play</td>\n",
              "      <td>9-Jun</td>\n",
              "      <td>it'sa me</td>\n",
              "      <td>Forest Life</td>\n",
              "      <td>Simple</td>\n",
              "      <td>Simple</td>\n",
              "      <td>Red</td>\n",
              "      <td>Blue</td>\n",
              "      <td>yellow playroom wall</td>\n",
              "      <td>green honeycomb tile</td>\n",
              "      <td>4763;3205;3701;1557;3623;85;3208;3584;4761;121...</td>\n",
              "      <td>crd00</td>\n",
              "      <td>REpd8KxB8p9aGBRSE</td>\n",
              "    </tr>\n",
              "  </tbody>\n",
              "</table>\n",
              "</div>"
            ],
            "text/plain": [
              "      Name    Species  ... Filename    Unique Entry ID\n",
              "0  Admiral       Bird  ...    brd06  B3RyfNEqwGmcccRC3\n",
              "1  Agent S   Squirrel  ...    squ05  SGMdki6dzpDZyXAw5\n",
              "2    Agnes        Pig  ...    pig17  jzWCiDPm9MqtCfecP\n",
              "3       Al    Gorilla  ...    gor08  LBifxETQJGEaLhBjC\n",
              "4  Alfonso  Alligator  ...    crd00  REpd8KxB8p9aGBRSE\n",
              "\n",
              "[5 rows x 17 columns]"
            ]
          },
          "metadata": {
            "tags": []
          },
          "execution_count": 8
        }
      ]
    },
    {
      "cell_type": "markdown",
      "metadata": {
        "id": "ltfMxnfiobFY"
      },
      "source": [
        "# Analisi monovariata"
      ]
    },
    {
      "cell_type": "markdown",
      "metadata": {
        "id": "1QeRKreJok5D"
      },
      "source": [
        "##Specie\n",
        "Categorico"
      ]
    },
    {
      "cell_type": "code",
      "metadata": {
        "id": "MG6r_O3Oortu",
        "colab": {
          "base_uri": "https://localhost:8080/",
          "height": 518
        },
        "outputId": "d6f37dfd-901b-4fb4-bca4-7a2f0498f565"
      },
      "source": [
        "species = villagers['Species']\n",
        "species_freq = species.value_counts(normalize=True)\n",
        "plt.figure(figsize=(30,10))\n",
        "plt.bar(species_freq.index, species_freq.values)\n",
        "plt.show()\n"
      ],
      "execution_count": null,
      "outputs": [
        {
          "output_type": "display_data",
          "data": {
            "image/png": "[encoded data removed]",
            "text/plain": [
              "<Figure size 2160x720 with 1 Axes>"
            ]
          },
          "metadata": {
            "tags": [],
            "needs_background": "light"
          }
        }
      ]
    },
    {
      "cell_type": "code",
      "metadata": {
        "id": "3BLtEeNcuWme"
      },
      "source": [
        "def gini_eterogeneity(series):\n",
        "    return 1 - (sum(series.value_counts(normalize=True)\n",
        "                    .map(lambda f: f**2)))"
      ],
      "execution_count": 36,
      "outputs": []
    },
    {
      "cell_type": "code",
      "metadata": {
        "colab": {
          "base_uri": "https://localhost:8080/"
        },
        "id": "HqdPqoM_vK6_",
        "outputId": "f232b355-15f7-4c70-b9e0-86aed242f888"
      },
      "source": [
        "gini_eterogeneity(species)"
      ],
      "execution_count": 37,
      "outputs": [
        {
          "output_type": "execute_result",
          "data": {
            "text/plain": [
              "0.9663202098364088"
            ]
          },
          "metadata": {
            "tags": []
          },
          "execution_count": 37
        }
      ]
    }
  ]
}