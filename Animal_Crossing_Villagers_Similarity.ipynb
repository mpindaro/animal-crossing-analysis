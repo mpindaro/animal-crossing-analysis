{
  "nbformat": 4,
  "nbformat_minor": 0,
  "metadata": {
    "colab": {
      "name": "Animal Crossing Villagers Similarity.ipynb",
      "provenance": [],
      "toc_visible": true,
      "include_colab_link": true
    },
    "kernelspec": {
      "name": "python3",
      "display_name": "Python 3"
    }
  },
  "cells": [
    {
      "cell_type": "markdown",
      "metadata": {
        "id": "view-in-github",
        "colab_type": "text"
      },
      "source": [
        "<a href=\"https://colab.research.google.com/github/mpindaro/animal-crossing-analysis/blob/master/Animal_Crossing_Villagers_Similarity.ipynb\" target=\"_parent\"><img src=\"https://colab.research.google.com/assets/colab-badge.svg\" alt=\"Open In Colab\"/></a>"
      ]
    },
    {
      "cell_type": "code",
      "metadata": {
        "id": "f0Ws7zcYq5O_"
      },
      "source": [
        "import pandas as pd\n",
        "import matplotlib.pyplot as plt\n",
        "import seaborn as sns\n",
        "import scipy.stats as ss\n",
        "import numpy as np\n",
        "\n"
      ],
      "execution_count": null,
      "outputs": []
    },
    {
      "cell_type": "code",
      "metadata": {
        "id": "bQZ2Tf7Jijkk",
        "colab": {
          "base_uri": "https://localhost:8080/",
          "height": 377
        },
        "outputId": "76815e11-ca9e-4c2c-fdca-7205d14e0ad3"
      },
      "source": [
        "\n",
        "villagers = pd.read_csv(\"villagers.csv\")\n",
        "villagers.head(5)"
      ],
      "execution_count": null,
      "outputs": [
        {
          "output_type": "execute_result",
          "data": {
            "text/html": [
              "<div>\n",
              "<style scoped>\n",
              "    .dataframe tbody tr th:only-of-type {\n",
              "        vertical-align: middle;\n",
              "    }\n",
              "\n",
              "    .dataframe tbody tr th {\n",
              "        vertical-align: top;\n",
              "    }\n",
              "\n",
              "    .dataframe thead th {\n",
              "        text-align: right;\n",
              "    }\n",
              "</style>\n",
              "<table border=\"1\" class=\"dataframe\">\n",
              "  <thead>\n",
              "    <tr style=\"text-align: right;\">\n",
              "      <th></th>\n",
              "      <th>Name</th>\n",
              "      <th>Species</th>\n",
              "      <th>Gender</th>\n",
              "      <th>Personality</th>\n",
              "      <th>Hobby</th>\n",
              "      <th>Birthday</th>\n",
              "      <th>Catchphrase</th>\n",
              "      <th>Favorite Song</th>\n",
              "      <th>Style 1</th>\n",
              "      <th>Style 2</th>\n",
              "      <th>Color 1</th>\n",
              "      <th>Color 2</th>\n",
              "      <th>Wallpaper</th>\n",
              "      <th>Flooring</th>\n",
              "      <th>Furniture List</th>\n",
              "      <th>Filename</th>\n",
              "      <th>Unique Entry ID</th>\n",
              "    </tr>\n",
              "  </thead>\n",
              "  <tbody>\n",
              "    <tr>\n",
              "      <th>0</th>\n",
              "      <td>Admiral</td>\n",
              "      <td>Bird</td>\n",
              "      <td>Male</td>\n",
              "      <td>Cranky</td>\n",
              "      <td>Nature</td>\n",
              "      <td>27-Jan</td>\n",
              "      <td>aye aye</td>\n",
              "      <td>Steep Hill</td>\n",
              "      <td>Cool</td>\n",
              "      <td>Cool</td>\n",
              "      <td>Black</td>\n",
              "      <td>Blue</td>\n",
              "      <td>dirt-clod wall</td>\n",
              "      <td>tatami</td>\n",
              "      <td>717;1849;7047;2736;787;5970;3449;3622;3802;410...</td>\n",
              "      <td>brd06</td>\n",
              "      <td>B3RyfNEqwGmcccRC3</td>\n",
              "    </tr>\n",
              "    <tr>\n",
              "      <th>1</th>\n",
              "      <td>Agent S</td>\n",
              "      <td>Squirrel</td>\n",
              "      <td>Female</td>\n",
              "      <td>Peppy</td>\n",
              "      <td>Fitness</td>\n",
              "      <td>2-Jul</td>\n",
              "      <td>sidekick</td>\n",
              "      <td>Go K.K. Rider</td>\n",
              "      <td>Active</td>\n",
              "      <td>Simple</td>\n",
              "      <td>Blue</td>\n",
              "      <td>Black</td>\n",
              "      <td>concrete wall</td>\n",
              "      <td>colorful tile flooring</td>\n",
              "      <td>7845;7150;3468;4080;290;3971;3449;1708;4756;25...</td>\n",
              "      <td>squ05</td>\n",
              "      <td>SGMdki6dzpDZyXAw5</td>\n",
              "    </tr>\n",
              "    <tr>\n",
              "      <th>2</th>\n",
              "      <td>Agnes</td>\n",
              "      <td>Pig</td>\n",
              "      <td>Female</td>\n",
              "      <td>Big Sister</td>\n",
              "      <td>Play</td>\n",
              "      <td>21-Apr</td>\n",
              "      <td>snuffle</td>\n",
              "      <td>K.K. House</td>\n",
              "      <td>Simple</td>\n",
              "      <td>Elegant</td>\n",
              "      <td>Pink</td>\n",
              "      <td>White</td>\n",
              "      <td>gray molded-panel wall</td>\n",
              "      <td>arabesque flooring</td>\n",
              "      <td>4129;7236;7235;7802;896;3428;4027;7325;3958;71...</td>\n",
              "      <td>pig17</td>\n",
              "      <td>jzWCiDPm9MqtCfecP</td>\n",
              "    </tr>\n",
              "    <tr>\n",
              "      <th>3</th>\n",
              "      <td>Al</td>\n",
              "      <td>Gorilla</td>\n",
              "      <td>Male</td>\n",
              "      <td>Lazy</td>\n",
              "      <td>Fitness</td>\n",
              "      <td>18-Oct</td>\n",
              "      <td>ayyyeee</td>\n",
              "      <td>Go K.K. Rider</td>\n",
              "      <td>Active</td>\n",
              "      <td>Active</td>\n",
              "      <td>Red</td>\n",
              "      <td>White</td>\n",
              "      <td>concrete wall</td>\n",
              "      <td>green rubber flooring</td>\n",
              "      <td>1452;4078;4013;833;4116;3697;7845;3307;3946;39...</td>\n",
              "      <td>gor08</td>\n",
              "      <td>LBifxETQJGEaLhBjC</td>\n",
              "    </tr>\n",
              "    <tr>\n",
              "      <th>4</th>\n",
              "      <td>Alfonso</td>\n",
              "      <td>Alligator</td>\n",
              "      <td>Male</td>\n",
              "      <td>Lazy</td>\n",
              "      <td>Play</td>\n",
              "      <td>9-Jun</td>\n",
              "      <td>it'sa me</td>\n",
              "      <td>Forest Life</td>\n",
              "      <td>Simple</td>\n",
              "      <td>Simple</td>\n",
              "      <td>Red</td>\n",
              "      <td>Blue</td>\n",
              "      <td>yellow playroom wall</td>\n",
              "      <td>green honeycomb tile</td>\n",
              "      <td>4763;3205;3701;1557;3623;85;3208;3584;4761;121...</td>\n",
              "      <td>crd00</td>\n",
              "      <td>REpd8KxB8p9aGBRSE</td>\n",
              "    </tr>\n",
              "  </tbody>\n",
              "</table>\n",
              "</div>"
            ],
            "text/plain": [
              "      Name    Species  ... Filename    Unique Entry ID\n",
              "0  Admiral       Bird  ...    brd06  B3RyfNEqwGmcccRC3\n",
              "1  Agent S   Squirrel  ...    squ05  SGMdki6dzpDZyXAw5\n",
              "2    Agnes        Pig  ...    pig17  jzWCiDPm9MqtCfecP\n",
              "3       Al    Gorilla  ...    gor08  LBifxETQJGEaLhBjC\n",
              "4  Alfonso  Alligator  ...    crd00  REpd8KxB8p9aGBRSE\n",
              "\n",
              "[5 rows x 17 columns]"
            ]
          },
          "metadata": {
            "tags": []
          },
          "execution_count": 2
        }
      ]
    },
    {
      "cell_type": "markdown",
      "metadata": {
        "id": "ltfMxnfiobFY"
      },
      "source": [
        "# Analisi descrittiva"
      ]
    },
    {
      "cell_type": "markdown",
      "metadata": {
        "id": "PrYA8gmi6914"
      },
      "source": [
        "##Analisi Monovariata"
      ]
    },
    {
      "cell_type": "markdown",
      "metadata": {
        "id": "1QeRKreJok5D"
      },
      "source": [
        "###Species\n",
        "Categorico"
      ]
    },
    {
      "cell_type": "code",
      "metadata": {
        "id": "MG6r_O3Oortu",
        "colab": {
          "base_uri": "https://localhost:8080/",
          "height": 518
        },
        "outputId": "840214e2-b931-42a6-81c1-923fa9510e8e"
      },
      "source": [
        "species = villagers['Species']\n",
        "species_freq = species.value_counts(normalize=True)\n",
        "plt.figure(figsize=(30,10))\n",
        "plt.bar(species_freq.index, species_freq.values)\n",
        "plt.show()\n"
      ],
      "execution_count": null,
      "outputs": [
        {
          "output_type": "display_data",
          "data": {
            "image/png": "[encoded data removed]",
            "text/plain": [
              "<Figure size 2160x720 with 1 Axes>"
            ]
          },
          "metadata": {
            "tags": [],
            "needs_background": "light"
          }
        }
      ]
    },
    {
      "cell_type": "code",
      "metadata": {
        "id": "3BLtEeNcuWme"
      },
      "source": [
        "def gini_eterogeneity(series):\n",
        "    return 1 - (sum(series.value_counts(normalize=True)\n",
        "                    .map(lambda f: f**2)))"
      ],
      "execution_count": null,
      "outputs": []
    },
    {
      "cell_type": "code",
      "metadata": {
        "colab": {
          "base_uri": "https://localhost:8080/"
        },
        "id": "HqdPqoM_vK6_",
        "outputId": "fb6a2756-e6bd-43e8-dc4e-8d90272a28f1"
      },
      "source": [
        "gini_eterogeneity(species)"
      ],
      "execution_count": null,
      "outputs": [
        {
          "output_type": "execute_result",
          "data": {
            "text/plain": [
              "0.9663202098364088"
            ]
          },
          "metadata": {
            "tags": []
          },
          "execution_count": 5
        }
      ]
    },
    {
      "cell_type": "markdown",
      "metadata": {
        "id": "EFqtESnisKIW"
      },
      "source": [
        "### Personality"
      ]
    },
    {
      "cell_type": "code",
      "metadata": {
        "colab": {
          "base_uri": "https://localhost:8080/"
        },
        "id": "es3Ilyspsh8y",
        "outputId": "d93489f3-0204-42af-f131-998555e2d66d"
      },
      "source": [
        "personalities = villagers['Personality']\n",
        "personalities_freq = personalities.value_counts(normalize=True)\n",
        "#plt.figure(figsize=(30,10))\n",
        "plt.bar(personalities_freq.index, personalities_freq.values)\n",
        "plt.show()\n"
      ],
      "execution_count": null,
      "outputs": [
        {
          "output_type": "display_data",
          "data": {
            "image/png": "[encoded data removed]",
            "text/plain": [
              "<Figure size 432x288 with 1 Axes>"
            ]
          },
          "metadata": {
            "tags": [],
            "needs_background": "light"
          }
        }
      ]
    },
    {
      "cell_type": "code",
      "metadata": {
        "colab": {
          "base_uri": "https://localhost:8080/"
        },
        "id": "Zoyst-jpulOr",
        "outputId": "82e6dd39-4dff-4859-f7ef-4e537ea15efb"
      },
      "source": [
        "gini_eterogeneity(personalities)"
      ],
      "execution_count": null,
      "outputs": [
        {
          "output_type": "execute_result",
          "data": {
            "text/plain": [
              "0.8672889371471929"
            ]
          },
          "metadata": {
            "tags": []
          },
          "execution_count": 57
        }
      ]
    },
    {
      "cell_type": "markdown",
      "metadata": {
        "id": "TWKOjcTOut9x"
      },
      "source": [
        "###Hobby"
      ]
    },
    {
      "cell_type": "code",
      "metadata": {
        "colab": {
          "base_uri": "https://localhost:8080/"
        },
        "id": "PHx6wl5luteG",
        "outputId": "dae7cc40-1331-400c-a2b1-a9cf98e5dfd4"
      },
      "source": [
        "hobbies = villagers['Hobby']\n",
        "hobbies_freq = hobbies.value_counts(normalize=True)\n",
        "#plt.figure(figsize=(30,10))\n",
        "plt.bar(hobbies_freq.index, hobbies_freq.values)\n",
        "plt.show()\n"
      ],
      "execution_count": null,
      "outputs": [
        {
          "output_type": "display_data",
          "data": {
            "image/png": "[encoded data removed]",
            "text/plain": [
              "<Figure size 432x288 with 1 Axes>"
            ]
          },
          "metadata": {
            "tags": [],
            "needs_background": "light"
          }
        }
      ]
    },
    {
      "cell_type": "code",
      "metadata": {
        "colab": {
          "base_uri": "https://localhost:8080/"
        },
        "id": "O0E3n8_6vGLV",
        "outputId": "61742e1b-680a-407c-c1a6-9a699eb33cf1"
      },
      "source": [
        "gini_eterogeneity(hobbies)"
      ],
      "execution_count": null,
      "outputs": [
        {
          "output_type": "execute_result",
          "data": {
            "text/plain": [
              "0.8333017183299429"
            ]
          },
          "metadata": {
            "tags": []
          },
          "execution_count": 59
        }
      ]
    },
    {
      "cell_type": "markdown",
      "metadata": {
        "id": "spQQTV4fvR4z"
      },
      "source": [
        "Gli hobby sono una distribuzione uniforme => Animal crossing vuole massimizzare l'eterogeneità. Ma a noi non ci interessa: chi ha hobby simili sta bene insieme"
      ]
    },
    {
      "cell_type": "markdown",
      "metadata": {
        "id": "Z4xNoO7Tv5BU"
      },
      "source": [
        "###Favorite Song"
      ]
    },
    {
      "cell_type": "code",
      "metadata": {
        "colab": {
          "base_uri": "https://localhost:8080/",
          "height": 282
        },
        "id": "xF-Rbyr4v-gR",
        "outputId": "7656f72d-4fc1-48b1-e257-ee54a0223539"
      },
      "source": [
        "songs = villagers['Favorite Song']\n",
        "songs_freq = songs.value_counts(normalize=True)\n",
        "#plt.figure(figsize=(30,10))\n",
        "\n",
        "plt.bar(songs_freq.index, songs_freq.values)\n",
        "plt.xlabel(\"Songs\")\n",
        "plt.show()\n",
        "\n"
      ],
      "execution_count": null,
      "outputs": [
        {
          "output_type": "display_data",
          "data": {
            "image/png": "[encoded data removed]",
            "text/plain": [
              "<Figure size 432x288 with 1 Axes>"
            ]
          },
          "metadata": {
            "tags": [],
            "needs_background": "light"
          }
        }
      ]
    },
    {
      "cell_type": "code",
      "metadata": {
        "colab": {
          "base_uri": "https://localhost:8080/"
        },
        "id": "NRGCd1fnv-gV",
        "outputId": "3a71b515-4f0b-4cf7-89bd-58d58d453b59"
      },
      "source": [
        "gini_eterogeneity(songs)"
      ],
      "execution_count": null,
      "outputs": [
        {
          "output_type": "execute_result",
          "data": {
            "text/plain": [
              "0.984268810381931"
            ]
          },
          "metadata": {
            "tags": []
          },
          "execution_count": 14
        }
      ]
    },
    {
      "cell_type": "markdown",
      "metadata": {
        "id": "uZmshix57XFq"
      },
      "source": [
        "##Analisi Bivariata"
      ]
    },
    {
      "cell_type": "markdown",
      "metadata": {
        "id": "I0-1WuaZx0Gq"
      },
      "source": [
        "###Style\n",
        "\n"
      ]
    },
    {
      "cell_type": "code",
      "metadata": {
        "colab": {
          "base_uri": "https://localhost:8080/",
          "height": 350
        },
        "id": "7o2MN6Vax3O0",
        "outputId": "b7384a33-6427-447f-9991-6d28763017a2"
      },
      "source": [
        "style1 = villagers['Style 1']\n",
        "style2 = villagers['Style 2']\n",
        "\n",
        "sns.stripplot(style1, style2)"
      ],
      "execution_count": null,
      "outputs": [
        {
          "output_type": "stream",
          "text": [
            "/usr/local/lib/python3.6/dist-packages/seaborn/_decorators.py:43: FutureWarning: Pass the following variables as keyword args: x, y. From version 0.12, the only valid positional argument will be `data`, and passing other arguments without an explicit keyword will result in an error or misinterpretation.\n",
            "  FutureWarning\n"
          ],
          "name": "stderr"
        },
        {
          "output_type": "execute_result",
          "data": {
            "text/plain": [
              "<matplotlib.axes._subplots.AxesSubplot at 0x7f8b500e12b0>"
            ]
          },
          "metadata": {
            "tags": []
          },
          "execution_count": 60
        },
        {
          "output_type": "display_data",
          "data": {
            "image/png": "[encoded data removed]",
            "text/plain": [
              "<Figure size 432x288 with 1 Axes>"
            ]
          },
          "metadata": {
            "tags": [],
            "needs_background": "light"
          }
        }
      ]
    },
    {
      "cell_type": "markdown",
      "metadata": {
        "id": "bNKfHZA23t2o"
      },
      "source": [
        "E' un bel grafichino. Mo cerchiamo di capire l'associazione"
      ]
    },
    {
      "cell_type": "code",
      "metadata": {
        "id": "JHF78m26zg4B"
      },
      "source": [
        "def cramers_v(x, y):\n",
        "  confusion_matrix = pd.crosstab(x,y)\n",
        "  chi2 = ss.chi2_contingency(confusion_matrix)[0]\n",
        "  n = confusion_matrix.sum().sum()\n",
        "  phi2 = chi2/n\n",
        "  r,k = confusion_matrix.shape\n",
        "  phi2corr = max(0, phi2-((k-1)*(r-1))/(n-1))\n",
        "  rcorr = r-((r-1)**2)/(n-1)\n",
        "  kcorr = k-((k-1)**2)/(n-1)\n",
        "  return np.sqrt(phi2corr/min((kcorr-1),(rcorr-1)))"
      ],
      "execution_count": null,
      "outputs": []
    },
    {
      "cell_type": "code",
      "metadata": {
        "colab": {
          "base_uri": "https://localhost:8080/"
        },
        "id": "5dCum3sq31mj",
        "outputId": "064ce22e-42bf-4543-e19f-026d0c26d65d"
      },
      "source": [
        "cramers_v(style1, style2)"
      ],
      "execution_count": null,
      "outputs": [
        {
          "output_type": "execute_result",
          "data": {
            "text/plain": [
              "0.2920472586900561"
            ]
          },
          "metadata": {
            "tags": []
          },
          "execution_count": 62
        }
      ]
    },
    {
      "cell_type": "markdown",
      "metadata": {
        "id": "N0-wOT1o4Zhf"
      },
      "source": [
        "Pare esserci poca associazione"
      ]
    },
    {
      "cell_type": "markdown",
      "metadata": {
        "id": "LzbY4mZq06-b"
      },
      "source": [
        "####Style 1"
      ]
    },
    {
      "cell_type": "code",
      "metadata": {
        "colab": {
          "base_uri": "https://localhost:8080/"
        },
        "id": "B6duIv3w0-4S",
        "outputId": "a57fae17-6f85-4571-acba-57364494c7bb"
      },
      "source": [
        "style1_freq = style1.value_counts(normalize=True)\n",
        "#plt.figure(figsize=(30,10))\n",
        "\n",
        "plt.bar(style1_freq.index, style1_freq.values)\n",
        "plt.show()\n"
      ],
      "execution_count": null,
      "outputs": [
        {
          "output_type": "display_data",
          "data": {
            "image/png": "[encoded data removed]",
            "text/plain": [
              "<Figure size 432x288 with 1 Axes>"
            ]
          },
          "metadata": {
            "tags": [],
            "needs_background": "light"
          }
        }
      ]
    },
    {
      "cell_type": "markdown",
      "metadata": {
        "id": "S7rSCq4I1U5n"
      },
      "source": [
        "####Style 2"
      ]
    },
    {
      "cell_type": "code",
      "metadata": {
        "colab": {
          "base_uri": "https://localhost:8080/",
          "height": 265
        },
        "id": "CSzejOyJ1cm8",
        "outputId": "572687f5-99bf-4dc0-d26a-746f0ee4a68c"
      },
      "source": [
        "style2_freq = style2.value_counts(normalize=True)\n",
        "#plt.figure(figsize=(30,10))\n",
        "\n",
        "plt.bar(style2_freq.index, style2_freq.values)\n",
        "plt.show()\n"
      ],
      "execution_count": null,
      "outputs": [
        {
          "output_type": "display_data",
          "data": {
            "image/png": "[encoded data removed]",
            "text/plain": [
              "<Figure size 432x288 with 1 Axes>"
            ]
          },
          "metadata": {
            "tags": [],
            "needs_background": "light"
          }
        }
      ]
    },
    {
      "cell_type": "markdown",
      "metadata": {
        "id": "wfTrUee92E98"
      },
      "source": [
        "###Color"
      ]
    },
    {
      "cell_type": "code",
      "metadata": {
        "colab": {
          "base_uri": "https://localhost:8080/",
          "height": 350
        },
        "id": "Tm5-0Lip4ivl",
        "outputId": "5b612542-ec4d-4b22-da14-f6fb43cf562c"
      },
      "source": [
        "color1 = villagers['Color 1']\n",
        "color2 = villagers['Color 2']\n",
        "\n",
        "sns.stripplot(color1, color2)"
      ],
      "execution_count": null,
      "outputs": [
        {
          "output_type": "stream",
          "text": [
            "/usr/local/lib/python3.6/dist-packages/seaborn/_decorators.py:43: FutureWarning: Pass the following variables as keyword args: x, y. From version 0.12, the only valid positional argument will be `data`, and passing other arguments without an explicit keyword will result in an error or misinterpretation.\n",
            "  FutureWarning\n"
          ],
          "name": "stderr"
        },
        {
          "output_type": "execute_result",
          "data": {
            "text/plain": [
              "<matplotlib.axes._subplots.AxesSubplot at 0x7f8b579916a0>"
            ]
          },
          "metadata": {
            "tags": []
          },
          "execution_count": 54
        },
        {
          "output_type": "display_data",
          "data": {
            "image/png": "[encoded data removed]",
            "text/plain": [
              "<Figure size 432x288 with 1 Axes>"
            ]
          },
          "metadata": {
            "tags": [],
            "needs_background": "light"
          }
        }
      ]
    },
    {
      "cell_type": "code",
      "metadata": {
        "colab": {
          "base_uri": "https://localhost:8080/"
        },
        "id": "_PIPaDgH41i3",
        "outputId": "7fe11e97-6c24-43b1-8327-6fdc1812357f"
      },
      "source": [
        "cramers_v(color1, color2)"
      ],
      "execution_count": null,
      "outputs": [
        {
          "output_type": "execute_result",
          "data": {
            "text/plain": [
              "0.19940147541558065"
            ]
          },
          "metadata": {
            "tags": []
          },
          "execution_count": 55
        }
      ]
    },
    {
      "cell_type": "markdown",
      "metadata": {
        "id": "-e1ncYpn2R4n"
      },
      "source": [
        "####Color 1"
      ]
    },
    {
      "cell_type": "code",
      "metadata": {
        "colab": {
          "base_uri": "https://localhost:8080/",
          "height": 320
        },
        "id": "asYKiEQa2fMB",
        "outputId": "8eefc5bb-4085-4dc9-bfcb-2e9cdcab16de"
      },
      "source": [
        "color1_freq = color1.value_counts(normalize=True)\n",
        "plt.figure(figsize=(12,5))\n",
        "plt.bar(color1_freq.index, color1_freq.values)\n",
        "plt.show()\n"
      ],
      "execution_count": null,
      "outputs": [
        {
          "output_type": "display_data",
          "data": {
            "image/png": "[encoded data removed]",
            "text/plain": [
              "<Figure size 864x360 with 1 Axes>"
            ]
          },
          "metadata": {
            "tags": [],
            "needs_background": "light"
          }
        }
      ]
    },
    {
      "cell_type": "markdown",
      "metadata": {
        "id": "zFdqrncy226S"
      },
      "source": [
        "####Color 2"
      ]
    },
    {
      "cell_type": "code",
      "metadata": {
        "colab": {
          "base_uri": "https://localhost:8080/",
          "height": 320
        },
        "id": "JM8SkiZ83NYP",
        "outputId": "0a09d199-6654-493f-df92-24e27e46ebb1"
      },
      "source": [
        "color2_freq = color2.value_counts(normalize=True)\n",
        "plt.figure(figsize=(12,5))\n",
        "plt.bar(color2_freq.index, color2_freq.values)\n",
        "plt.show()"
      ],
      "execution_count": null,
      "outputs": [
        {
          "output_type": "display_data",
          "data": {
            "image/png": "[encoded data removed]",
            "text/plain": [
              "<Figure size 864x360 with 1 Axes>"
            ]
          },
          "metadata": {
            "tags": [],
            "needs_background": "light"
          }
        }
      ]
    },
    {
      "cell_type": "markdown",
      "metadata": {
        "id": "IqypdzOJ7wVK"
      },
      "source": [
        "##Analisi Multivariata"
      ]
    },
    {
      "cell_type": "code",
      "metadata": {
        "colab": {
          "base_uri": "https://localhost:8080/"
        },
        "id": "hECSaA6s72Uk",
        "outputId": "2c43fbcb-bc88-41ae-c0f5-02ee28d8d872"
      },
      "source": [
        "features=[\"Species\", \"Personality\",\t\"Hobby\"\t, \"Favorite Song\",\t\"Style 1\",\t\"Style 2\",\t\"Color 1\" , \t\"Color 2\"]\n",
        "\n",
        "for f1 in features:\n",
        "  for f2 in features:\n",
        "    print(f\"{f1},{f2}: {cramers_v(villagers[f1],villagers[f2])}\")"
      ],
      "execution_count": null,
      "outputs": [
        {
          "output_type": "stream",
          "text": [
            "Species,Species: 0.9999999999999999\n",
            "Species,Personality: 0.0\n",
            "Species,Hobby: 0.19481495068552301\n",
            "Species,Favorite Song: 0.13076974404569083\n",
            "Species,Style 1: 0.0\n",
            "Species,Style 2: 0.07914213531582459\n",
            "Species,Color 1: 0.0\n",
            "Species,Color 2: 0.0\n",
            "Personality,Species: 0.0\n",
            "Personality,Personality: 1.0\n",
            "Personality,Hobby: 0.495886125095489\n",
            "Personality,Favorite Song: 0.35611170100084755\n",
            "Personality,Style 1: 0.4955588609839699\n",
            "Personality,Style 2: 0.3271091768603504\n",
            "Personality,Color 1: 0.19052387394036963\n",
            "Personality,Color 2: 0.1858153045211923\n",
            "Hobby,Species: 0.19481495068552301\n",
            "Hobby,Personality: 0.49588612509548907\n",
            "Hobby,Hobby: 1.0\n",
            "Hobby,Favorite Song: 0.30918103755125403\n",
            "Hobby,Style 1: 0.2979980554957059\n",
            "Hobby,Style 2: 0.16065352828807633\n",
            "Hobby,Color 1: 0.13884012729326148\n",
            "Hobby,Color 2: 0.08422268581261272\n",
            "Favorite Song,Species: 0.13076974404569103\n",
            "Favorite Song,Personality: 0.35611170100084755\n",
            "Favorite Song,Hobby: 0.30918103755125403\n",
            "Favorite Song,Favorite Song: 1.0\n",
            "Favorite Song,Style 1: 0.35993156986384717\n",
            "Favorite Song,Style 2: 0.24204724105478834\n",
            "Favorite Song,Color 1: 0.1596616002251789\n",
            "Favorite Song,Color 2: 0.0\n",
            "Style 1,Species: 0.0\n",
            "Style 1,Personality: 0.4955588609839699\n",
            "Style 1,Hobby: 0.2979980554957059\n",
            "Style 1,Favorite Song: 0.35993156986384717\n",
            "Style 1,Style 1: 1.0\n",
            "Style 1,Style 2: 0.2920472586900561\n",
            "Style 1,Color 1: 0.287350920490861\n",
            "Style 1,Color 2: 0.18119151416713855\n",
            "Style 2,Species: 0.07914213531582459\n",
            "Style 2,Personality: 0.32710917686035046\n",
            "Style 2,Hobby: 0.1606535282880763\n",
            "Style 2,Favorite Song: 0.24204724105478823\n",
            "Style 2,Style 1: 0.29204725869005604\n",
            "Style 2,Style 2: 1.0\n",
            "Style 2,Color 1: 0.15150498269685003\n",
            "Style 2,Color 2: 0.1102362816585662\n",
            "Color 1,Species: 0.0\n",
            "Color 1,Personality: 0.19052387394036957\n",
            "Color 1,Hobby: 0.13884012729326148\n",
            "Color 1,Favorite Song: 0.1596616002251787\n",
            "Color 1,Style 1: 0.287350920490861\n",
            "Color 1,Style 2: 0.15150498269685003\n",
            "Color 1,Color 1: 1.0\n",
            "Color 1,Color 2: 0.19940147541558065\n",
            "Color 2,Species: 0.0\n",
            "Color 2,Personality: 0.1858153045211923\n",
            "Color 2,Hobby: 0.08422268581261272\n",
            "Color 2,Favorite Song: 0.0\n",
            "Color 2,Style 1: 0.1811915141671385\n",
            "Color 2,Style 2: 0.11023628165856617\n",
            "Color 2,Color 1: 0.1994014754155806\n",
            "Color 2,Color 2: 1.0\n"
          ],
          "name": "stdout"
        }
      ]
    },
    {
      "cell_type": "code",
      "metadata": {
        "id": "weYl61-X9oGG"
      },
      "source": [
        "dataset = villagers[features]"
      ],
      "execution_count": null,
      "outputs": []
    }
  ]
}